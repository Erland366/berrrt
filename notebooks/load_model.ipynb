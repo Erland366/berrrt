{
 "cells": [
  {
   "cell_type": "code",
   "execution_count": 8,
   "metadata": {},
   "outputs": [],
   "source": [
    "from hydra import compose, initialize\n",
    "\n",
    "with initialize(\n",
    "    version_base=None,\n",
    "    config_path=\"../berrrt/conf\",\n",
    "):\n",
    "    cfg = compose(\n",
    "        config_name=\"config\",\n",
    "        overrides=[\n",
    "            \"modules=berrrt_early_exit\",\n",
    "            \"modules_name=berrrt_early_exit\",\n",
    "            \"mode=full\"\n",
    "        ],\n",
    "    )\n",
    "cfg\n",
    "del cfg.modules.additional_prefix"
   ]
  },
  {
   "cell_type": "code",
   "execution_count": 5,
   "metadata": {},
   "outputs": [
    {
     "name": "stdout",
     "output_type": "stream",
     "text": [
      "/root/berrrt\n"
     ]
    },
    {
     "name": "stderr",
     "output_type": "stream",
     "text": [
      "/opt/conda/lib/python3.10/site-packages/IPython/core/magics/osm.py:417: UserWarning: using dhist requires you to install the `pickleshare` library.\n",
      "  self.shell.db['dhist'] = compress_dhist(dhist)[-100:]\n"
     ]
    }
   ],
   "source": [
    "%cd ../"
   ]
  },
  {
   "cell_type": "code",
   "execution_count": 9,
   "metadata": {},
   "outputs": [
    {
     "name": "stderr",
     "output_type": "stream",
     "text": [
      "/opt/conda/lib/python3.10/site-packages/huggingface_hub/file_download.py:1132: FutureWarning: `resume_download` is deprecated and will be removed in version 1.0.0. Downloads always resume when possible. If you want to force a new download, use `force_download=True`.\n",
      "  warnings.warn(\n"
     ]
    }
   ],
   "source": [
    "from berrrt.modules.base import ModulesFactory\n",
    "from berrrt.torch_utils import get_default_device, set_seed\n",
    "\n",
    "set_seed(42)\n",
    "model = ModulesFactory(cfg.modules_name).create_model(**cfg.modules)\n",
    "device = get_default_device()\n",
    "model = model.to(device)"
   ]
  },
  {
   "cell_type": "code",
   "execution_count": 10,
   "metadata": {},
   "outputs": [
    {
     "data": {
      "text/plain": [
       "BERRRTEarlyExitModel(\n",
       "  (bert): BertModel(\n",
       "    (embeddings): BertEmbeddings(\n",
       "      (word_embeddings): Embedding(30522, 768, padding_idx=0)\n",
       "      (position_embeddings): Embedding(512, 768)\n",
       "      (token_type_embeddings): Embedding(2, 768)\n",
       "      (LayerNorm): LayerNorm((768,), eps=1e-12, elementwise_affine=True)\n",
       "      (dropout): Dropout(p=0.1, inplace=False)\n",
       "    )\n",
       "    (encoder): BertEncoder(\n",
       "      (layer): ModuleList(\n",
       "        (0-11): 12 x BertLayer(\n",
       "          (attention): BertAttention(\n",
       "            (self): BertSelfAttention(\n",
       "              (query): Linear(in_features=768, out_features=768, bias=True)\n",
       "              (key): Linear(in_features=768, out_features=768, bias=True)\n",
       "              (value): Linear(in_features=768, out_features=768, bias=True)\n",
       "              (dropout): Dropout(p=0.1, inplace=False)\n",
       "            )\n",
       "            (output): BertSelfOutput(\n",
       "              (dense): Linear(in_features=768, out_features=768, bias=True)\n",
       "              (LayerNorm): LayerNorm((768,), eps=1e-12, elementwise_affine=True)\n",
       "              (dropout): Dropout(p=0.1, inplace=False)\n",
       "            )\n",
       "          )\n",
       "          (intermediate): BertIntermediate(\n",
       "            (dense): Linear(in_features=768, out_features=3072, bias=True)\n",
       "            (intermediate_act_fn): GELUActivation()\n",
       "          )\n",
       "          (output): BertOutput(\n",
       "            (dense): Linear(in_features=3072, out_features=768, bias=True)\n",
       "            (LayerNorm): LayerNorm((768,), eps=1e-12, elementwise_affine=True)\n",
       "            (dropout): Dropout(p=0.1, inplace=False)\n",
       "          )\n",
       "        )\n",
       "      )\n",
       "    )\n",
       "    (pooler): BertPooler(\n",
       "      (dense): Linear(in_features=768, out_features=768, bias=True)\n",
       "      (activation): Tanh()\n",
       "    )\n",
       "  )\n",
       "  (berrrt_ffn): BERRRTFFN(\n",
       "    (linear1): Linear(in_features=768, out_features=3072, bias=True)\n",
       "    (act): ReLU()\n",
       "    (linear2): Linear(in_features=3072, out_features=768, bias=True)\n",
       "  )\n",
       "  (dropout): Dropout(p=0.1, inplace=False)\n",
       "  (classifier): Linear(in_features=768, out_features=2, bias=True)\n",
       "  (linear_hidden): Linear(in_features=768, out_features=1, bias=True)\n",
       "  (attention_gate): MultiheadAttention(\n",
       "    (out_proj): NonDynamicallyQuantizableLinear(in_features=768, out_features=768, bias=True)\n",
       "  )\n",
       ")"
      ]
     },
     "execution_count": 10,
     "metadata": {},
     "output_type": "execute_result"
    }
   ],
   "source": [
    "from safetensors.torch import load_model\n",
    "\n",
    "load_model(model, \"model_output/berrrt_early_exit-ee_softmax-layer_range_0_11-mrpc-30epochs-LR2em05-adamw_torch-3o7t38fu/tmp-checkpoint-500/model.safetensors\")\n",
    "model"
   ]
  },
  {
   "cell_type": "code",
   "execution_count": 12,
   "metadata": {},
   "outputs": [
    {
     "name": "stderr",
     "output_type": "stream",
     "text": [
      "/opt/conda/lib/python3.10/site-packages/huggingface_hub/file_download.py:1132: FutureWarning: `resume_download` is deprecated and will be removed in version 1.0.0. Downloads always resume when possible. If you want to force a new download, use `force_download=True`.\n",
      "  warnings.warn(\n"
     ]
    },
    {
     "name": "stderr",
     "output_type": "stream",
     "text": [
      "Map: 100%|██████████| 3668/3668 [00:00<00:00, 6614.54 examples/s]\n",
      "Map: 100%|██████████| 408/408 [00:00<00:00, 5748.96 examples/s]\n",
      "Map: 100%|██████████| 1725/1725 [00:00<00:00, 6871.79 examples/s]\n"
     ]
    },
    {
     "data": {
      "text/plain": [
       "<berrrt.dataset.BERRRTDataset at 0x7fc51de666e0>"
      ]
     },
     "execution_count": 12,
     "metadata": {},
     "output_type": "execute_result"
    }
   ],
   "source": [
    "from berrrt.dataset import BERRRTDataset\n",
    "\n",
    "dataset = BERRRTDataset(cfg)\n",
    "dataset"
   ]
  },
  {
   "cell_type": "code",
   "execution_count": 17,
   "metadata": {},
   "outputs": [],
   "source": [
    "from transformers import Trainer, TrainingArguments\n",
    "\n",
    "training_args = TrainingArguments(\n",
    "    output_dir=f\"./{cfg.run_name.run_name}\",\n",
    "    run_name=cfg.run_name.run_name,\n",
    "    **cfg.train\n",
    ")"
   ]
  },
  {
   "cell_type": "code",
   "execution_count": 18,
   "metadata": {},
   "outputs": [],
   "source": [
    "from berrrt.utils import (\n",
    "    compute_metrics,\n",
    "    compute_metrics_multi,\n",
    ")\n",
    "\n",
    "\n",
    "trainer = Trainer(\n",
    "    model=model,\n",
    "    args=training_args,\n",
    "    train_dataset=dataset.train_encoded,\n",
    "    eval_dataset=dataset.eval_encoded,\n",
    "    compute_metrics=compute_metrics\n",
    "    if cfg.dataset.num_classes == 2\n",
    "    else compute_metrics_multi,\n",
    ")"
   ]
  },
  {
   "cell_type": "code",
   "execution_count": 19,
   "metadata": {},
   "outputs": [
    {
     "data": {
      "text/html": [],
      "text/plain": [
       "<IPython.core.display.HTML object>"
      ]
     },
     "metadata": {},
     "output_type": "display_data"
    },
    {
     "data": {
      "text/plain": [
       "PredictionOutput(predictions=(array([[-5.886644 ,  5.678859 ],\n",
       "       [-5.749083 ,  5.659796 ],\n",
       "       [-4.455859 ,  4.3362823],\n",
       "       ...,\n",
       "       [-3.5405414,  3.3606794],\n",
       "       [-5.279708 ,  5.1101136],\n",
       "       [-4.3429074,  4.223866 ]], dtype=float32), [array([[-0.3454004 ,  0.30549675],\n",
       "       [-0.3454004 ,  0.30549675],\n",
       "       [-0.3454004 ,  0.30549675],\n",
       "       ...,\n",
       "       [-0.3454004 ,  0.30549675],\n",
       "       [-0.3454004 ,  0.30549675],\n",
       "       [-0.3454004 ,  0.30549675]], dtype=float32), array([[-0.4152403 ,  0.4761602 ],\n",
       "       [-0.41384202,  0.51524574],\n",
       "       [-0.42469728,  0.483114  ],\n",
       "       ...,\n",
       "       [-0.37960333,  0.45543227],\n",
       "       [-0.42341247,  0.5256171 ],\n",
       "       [-0.445907  ,  0.5334038 ]], dtype=float32), array([[-0.26779693,  0.27924356],\n",
       "       [-0.7137309 ,  0.56444055],\n",
       "       [-0.4179542 ,  0.15583484],\n",
       "       ...,\n",
       "       [-0.22090133, -0.07902987],\n",
       "       [-1.0041832 ,  1.1339313 ],\n",
       "       [-1.1885852 ,  1.1498477 ]], dtype=float32), array([[-0.541353  ,  0.4775347 ],\n",
       "       [-0.9879268 ,  0.7645393 ],\n",
       "       [-0.5027041 ,  0.09896078],\n",
       "       ...,\n",
       "       [-0.2374609 , -0.1280297 ],\n",
       "       [-1.5575068 ,  1.6611035 ],\n",
       "       [-1.5789384 ,  1.4313408 ]], dtype=float32), array([[-1.5447117 ,  1.2605431 ],\n",
       "       [-1.2381973 ,  1.0889324 ],\n",
       "       [-1.3569597 ,  1.0986776 ],\n",
       "       ...,\n",
       "       [-0.3499859 ,  0.01947559],\n",
       "       [-2.3279781 ,  2.563737  ],\n",
       "       [-2.3191981 ,  2.1653502 ]], dtype=float32), array([[-2.9278345,  2.4889863],\n",
       "       [-1.1280316,  1.0354449],\n",
       "       [-2.2766218,  2.4441588],\n",
       "       ...,\n",
       "       [-1.2511063,  1.1780139],\n",
       "       [-3.337246 ,  3.432886 ],\n",
       "       [-2.6818376,  2.5538597]], dtype=float32), array([[-3.8392422,  4.0700684],\n",
       "       [-2.7195754,  2.984366 ],\n",
       "       [-3.755723 ,  4.002453 ],\n",
       "       ...,\n",
       "       [-2.2921999,  1.8624637],\n",
       "       [-4.5119834,  4.8086963],\n",
       "       [-4.026201 ,  3.8856382]], dtype=float32), array([[-4.853543 ,  4.9020863],\n",
       "       [-4.2603183,  4.4579806],\n",
       "       [-4.5722656,  4.5739093],\n",
       "       ...,\n",
       "       [-2.8886068,  2.4579692],\n",
       "       [-4.9139676,  5.221481 ],\n",
       "       [-4.722689 ,  4.621267 ]], dtype=float32), array([[-5.2587867,  5.2599874],\n",
       "       [-4.682939 ,  5.1645236],\n",
       "       [-4.6903453,  4.8966312],\n",
       "       ...,\n",
       "       [-3.2005563,  2.8522348],\n",
       "       [-4.861487 ,  5.114372 ],\n",
       "       [-4.447414 ,  4.604127 ]], dtype=float32), array([[-5.701652 ,  5.0949244],\n",
       "       [-5.009128 ,  4.9688034],\n",
       "       [-4.9302306,  4.6215043],\n",
       "       ...,\n",
       "       [-3.3710766,  2.8288379],\n",
       "       [-5.194677 ,  4.823671 ],\n",
       "       [-4.5235305,  3.9152312]], dtype=float32), array([[-5.3158636,  4.7423196],\n",
       "       [-4.605965 ,  4.6815834],\n",
       "       [-4.481593 ,  3.9618447],\n",
       "       ...,\n",
       "       [-3.326322 ,  2.5426404],\n",
       "       [-4.8725476,  4.4014764],\n",
       "       [-4.305296 ,  3.8303902]], dtype=float32), array([[-5.6074395,  4.834516 ],\n",
       "       [-5.012285 ,  4.5834703],\n",
       "       [-4.6795063,  4.029927 ],\n",
       "       ...,\n",
       "       [-3.3752947,  2.7289946],\n",
       "       [-5.117311 ,  4.2941594],\n",
       "       [-4.7889633,  3.8571079]], dtype=float32)]), label_ids=array([1, 1, 1, ..., 0, 1, 1]), metrics={'test_loss': 12.51516056060791, 'test_accuracy': 0.7884057971014493, 'test_f1': 0.8494845360824742, 'test_precision': 0.8059467918622848, 'test_recall': 0.8979947689625108, 'test_final_logits_last_sample': [-4.342907428741455, 4.223865985870361], 'test_final_labels': 1, 'test_all_accs': [0.664927536231884, 0.664927536231884, 0.696231884057971, 0.6944927536231884, 0.7101449275362319, 0.735072463768116, 0.7669565217391304, 0.7814492753623189, 0.7855072463768116, 0.784927536231884, 0.7860869565217391, 0.7866666666666666], 'test_all_logits_table': <wandb.data_types.Table object at 0x7fc46c783e50>, 'test_runtime': 6.7027, 'test_samples_per_second': 257.36, 'test_steps_per_second': 8.056})"
      ]
     },
     "execution_count": 19,
     "metadata": {},
     "output_type": "execute_result"
    }
   ],
   "source": [
    "test_results = trainer.predict(test_dataset=dataset.test_encoded)\n",
    "test_results"
   ]
  },
  {
   "cell_type": "code",
   "execution_count": 23,
   "metadata": {},
   "outputs": [
    {
     "data": {
      "text/plain": [
       "{'test_loss': 12.51516056060791,\n",
       " 'test_accuracy': 0.7884057971014493,\n",
       " 'test_f1': 0.8494845360824742,\n",
       " 'test_precision': 0.8059467918622848,\n",
       " 'test_recall': 0.8979947689625108,\n",
       " 'test_final_logits_last_sample': [-4.342907428741455, 4.223865985870361],\n",
       " 'test_final_labels': 1,\n",
       " 'test_all_accs': [0.664927536231884,\n",
       "  0.664927536231884,\n",
       "  0.696231884057971,\n",
       "  0.6944927536231884,\n",
       "  0.7101449275362319,\n",
       "  0.735072463768116,\n",
       "  0.7669565217391304,\n",
       "  0.7814492753623189,\n",
       "  0.7855072463768116,\n",
       "  0.784927536231884,\n",
       "  0.7860869565217391,\n",
       "  0.7866666666666666],\n",
       " 'test_all_logits_table': <wandb.data_types.Table at 0x7fc46c783e50>,\n",
       " 'test_runtime': 6.7027,\n",
       " 'test_samples_per_second': 257.36,\n",
       " 'test_steps_per_second': 8.056}"
      ]
     },
     "execution_count": 23,
     "metadata": {},
     "output_type": "execute_result"
    }
   ],
   "source": [
    "test_results.metrics"
   ]
  },
  {
   "cell_type": "code",
   "execution_count": 39,
   "metadata": {},
   "outputs": [],
   "source": [
    "import torch\n",
    "import random\n",
    "\n",
    "def summarize_predictions(logits, labels, layer_logits, correct_samples=3, incorrect_samples=2, layers_taken=12):\n",
    "    # Ensure inputs are torch tensors\n",
    "    logits = torch.tensor(logits)\n",
    "    labels = torch.tensor(labels)\n",
    "    layer_logits = [torch.tensor(layer) for layer in layer_logits]\n",
    "\n",
    "    # Calculate the predicted class from main logits\n",
    "    predicted_classes = torch.argmax(logits, dim=1)\n",
    "\n",
    "    # Initialize lists for the summaries\n",
    "    full_summary = []\n",
    "    correct_summary = []\n",
    "    incorrect_summary = []\n",
    "\n",
    "    # Generate a summary for each data point\n",
    "    for i in range(len(labels)):\n",
    "        # Main summary for each data point\n",
    "        summary = {\n",
    "            'Index': i,\n",
    "            'Main Predicted Class': predicted_classes[i].item(),\n",
    "            'Main Logits': logits[i].tolist(),\n",
    "            'Actual Label': labels[i].item(),\n",
    "            'Layer Logits': {}\n",
    "        }\n",
    "\n",
    "        # Adding layer logits and predicted classes for each layer up to layers_taken\n",
    "        for layer_index in range(min(layers_taken, len(layer_logits))):\n",
    "            layer_pred_class = torch.argmax(layer_logits[layer_index][i], dim=0).item()\n",
    "            summary['Layer Logits'][f'Layer {layer_index + 1}'] = {\n",
    "                'Predicted Class': layer_pred_class,\n",
    "                'Logits': layer_logits[layer_index][i].tolist()\n",
    "            }\n",
    "\n",
    "        full_summary.append(summary)\n",
    "\n",
    "        # Separate correct and incorrect predictions based on main logits\n",
    "        if predicted_classes[i] == labels[i]:\n",
    "            correct_summary.append(summary)\n",
    "        else:\n",
    "            incorrect_summary.append(summary)\n",
    "\n",
    "    # Randomly select the requested number of correct and incorrect samples\n",
    "    random_correct_samples = random.sample(correct_summary, min(correct_samples, len(correct_summary)))\n",
    "    random_incorrect_samples = random.sample(incorrect_summary, min(incorrect_samples, len(incorrect_summary)))\n",
    "\n",
    "    return full_summary, random_correct_samples, random_incorrect_samples"
   ]
  },
  {
   "cell_type": "code",
   "execution_count": 45,
   "metadata": {},
   "outputs": [
    {
     "data": {
      "text/plain": [
       "array([[-0.3454004 ,  0.30549675],\n",
       "       [-0.3454004 ,  0.30549675],\n",
       "       [-0.3454004 ,  0.30549675],\n",
       "       ...,\n",
       "       [-0.3454004 ,  0.30549675],\n",
       "       [-0.3454004 ,  0.30549675],\n",
       "       [-0.3454004 ,  0.30549675]], dtype=float32)"
      ]
     },
     "execution_count": 45,
     "metadata": {},
     "output_type": "execute_result"
    }
   ],
   "source": [
    "test_results.predictions[1][0]"
   ]
  },
  {
   "cell_type": "code",
   "execution_count": 71,
   "metadata": {},
   "outputs": [
    {
     "name": "stdout",
     "output_type": "stream",
     "text": [
      "0: 0.7744927406311035, Greater than MoE : False\n",
      "1: 0.7744927406311035, Greater than MoE : False\n",
      "2: 0.782608687877655, Greater than MoE : False\n",
      "3: 0.7831884026527405, Greater than MoE : False\n",
      "4: 0.7837681174278259, Greater than MoE : False\n",
      "5: 0.7866666913032532, Greater than MoE : False\n",
      "6: 0.7866666913032532, Greater than MoE : False\n",
      "7: 0.7837681174278259, Greater than MoE : False\n",
      "8: 0.7849275469779968, Greater than MoE : False\n",
      "9: 0.7855072617530823, Greater than MoE : False\n",
      "10: 0.7872464060783386, Greater than MoE : False\n",
      "11: 0.7866666913032532, Greater than MoE : False\n"
     ]
    }
   ],
   "source": [
    "# ensemble\n",
    "for i in range(12):\n",
    "    test_results_tensor = torch.tensor(test_results.predictions[1])[i:, :, :]\n",
    "\n",
    "    all_classes = test_results_tensor.argmax(-1)\n",
    "\n",
    "    all_classes_voted = torch.mode(all_classes, 0).values\n",
    "    result_acc = (all_classes_voted == torch.tensor(test_results.label_ids)).sum() / all_classes_voted.shape[0]\n",
    "    print(f\"{i}: {result_acc}, Greater than MoE : {result_acc > test_results.metrics['test_accuracy']}\")"
   ]
  },
  {
   "cell_type": "code",
   "execution_count": null,
   "metadata": {},
   "outputs": [],
   "source": [
    "summary, correct_samples, incorrect_samples = summarize_predictions(test_results.predictions[0], test_results.label_ids, test_results.predictions[1])"
   ]
  },
  {
   "cell_type": "code",
   "execution_count": 42,
   "metadata": {},
   "outputs": [
    {
     "name": "stdout",
     "output_type": "stream",
     "text": [
      "[{'Actual Label': 1,\n",
      "  'Index': 571,\n",
      "  'Layer Logits': {'Layer 1': {'Logits': [-0.3454003930091858,\n",
      "                                          0.3054967522621155],\n",
      "                               'Predicted Class': 1},\n",
      "                   'Layer 10': {'Logits': [-4.8850836753845215,\n",
      "                                           4.675403118133545],\n",
      "                                'Predicted Class': 1},\n",
      "                   'Layer 11': {'Logits': [-4.3408122062683105,\n",
      "                                           4.275904178619385],\n",
      "                                'Predicted Class': 1},\n",
      "                   'Layer 12': {'Logits': [-4.808088302612305,\n",
      "                                           4.175318241119385],\n",
      "                                'Predicted Class': 1},\n",
      "                   'Layer 2': {'Logits': [-0.3772399127483368,\n",
      "                                          0.4976996183395386],\n",
      "                               'Predicted Class': 1},\n",
      "                   'Layer 3': {'Logits': [-0.709935188293457,\n",
      "                                          0.7823955416679382],\n",
      "                               'Predicted Class': 1},\n",
      "                   'Layer 4': {'Logits': [-0.9906623959541321,\n",
      "                                          1.0004792213439941],\n",
      "                               'Predicted Class': 1},\n",
      "                   'Layer 5': {'Logits': [-1.122309923171997,\n",
      "                                          0.9754372239112854],\n",
      "                               'Predicted Class': 1},\n",
      "                   'Layer 6': {'Logits': [-1.856047511100769,\n",
      "                                          1.747194528579712],\n",
      "                               'Predicted Class': 1},\n",
      "                   'Layer 7': {'Logits': [-3.8907535076141357,\n",
      "                                          3.9331250190734863],\n",
      "                               'Predicted Class': 1},\n",
      "                   'Layer 8': {'Logits': [-4.614745140075684,\n",
      "                                          4.6113972663879395],\n",
      "                               'Predicted Class': 1},\n",
      "                   'Layer 9': {'Logits': [-4.788228511810303,\n",
      "                                          5.044196605682373],\n",
      "                               'Predicted Class': 1}},\n",
      "  'Main Logits': [-4.811710834503174, 4.704446315765381],\n",
      "  'Main Predicted Class': 1},\n",
      " {'Actual Label': 0,\n",
      "  'Index': 356,\n",
      "  'Layer Logits': {'Layer 1': {'Logits': [-0.3454003930091858,\n",
      "                                          0.3054967522621155],\n",
      "                               'Predicted Class': 1},\n",
      "                   'Layer 10': {'Logits': [2.4704508781433105,\n",
      "                                           -2.1425976753234863],\n",
      "                                'Predicted Class': 0},\n",
      "                   'Layer 11': {'Logits': [2.493518829345703,\n",
      "                                           -2.425846576690674],\n",
      "                                'Predicted Class': 0},\n",
      "                   'Layer 12': {'Logits': [2.6134281158447266,\n",
      "                                           -2.532101631164551],\n",
      "                                'Predicted Class': 0},\n",
      "                   'Layer 2': {'Logits': [-0.4475638270378113,\n",
      "                                          0.4812138080596924],\n",
      "                               'Predicted Class': 1},\n",
      "                   'Layer 3': {'Logits': [-0.8501990437507629,\n",
      "                                          0.8295701742172241],\n",
      "                               'Predicted Class': 1},\n",
      "                   'Layer 4': {'Logits': [-1.1713738441467285,\n",
      "                                          1.0307292938232422],\n",
      "                               'Predicted Class': 1},\n",
      "                   'Layer 5': {'Logits': [-1.2276129722595215,\n",
      "                                          0.8332844376564026],\n",
      "                               'Predicted Class': 1},\n",
      "                   'Layer 6': {'Logits': [-0.438243567943573,\n",
      "                                          0.14861300587654114],\n",
      "                               'Predicted Class': 1},\n",
      "                   'Layer 7': {'Logits': [0.44506654143333435,\n",
      "                                          -0.7140557765960693],\n",
      "                               'Predicted Class': 0},\n",
      "                   'Layer 8': {'Logits': [1.6487483978271484,\n",
      "                                          -1.3477259874343872],\n",
      "                               'Predicted Class': 0},\n",
      "                   'Layer 9': {'Logits': [2.1231496334075928,\n",
      "                                          -1.6519752740859985],\n",
      "                               'Predicted Class': 0}},\n",
      "  'Main Logits': [2.4134583473205566, -2.139173746109009],\n",
      "  'Main Predicted Class': 0},\n",
      " {'Actual Label': 1,\n",
      "  'Index': 259,\n",
      "  'Layer Logits': {'Layer 1': {'Logits': [-0.3454003930091858,\n",
      "                                          0.3054967522621155],\n",
      "                               'Predicted Class': 1},\n",
      "                   'Layer 10': {'Logits': [-5.027361869812012,\n",
      "                                           4.65586519241333],\n",
      "                                'Predicted Class': 1},\n",
      "                   'Layer 11': {'Logits': [-4.651622295379639,\n",
      "                                           4.3422722816467285],\n",
      "                                'Predicted Class': 1},\n",
      "                   'Layer 12': {'Logits': [-5.159515857696533,\n",
      "                                           4.5703582763671875],\n",
      "                                'Predicted Class': 1},\n",
      "                   'Layer 2': {'Logits': [-0.45940741896629333,\n",
      "                                          0.5196592807769775],\n",
      "                               'Predicted Class': 1},\n",
      "                   'Layer 3': {'Logits': [-0.7497116923332214,\n",
      "                                          0.726049542427063],\n",
      "                               'Predicted Class': 1},\n",
      "                   'Layer 4': {'Logits': [-1.0961748361587524,\n",
      "                                          0.9487684965133667],\n",
      "                               'Predicted Class': 1},\n",
      "                   'Layer 5': {'Logits': [-0.9204633831977844,\n",
      "                                          0.7334995865821838],\n",
      "                               'Predicted Class': 1},\n",
      "                   'Layer 6': {'Logits': [-1.4975993633270264,\n",
      "                                          1.4728070497512817],\n",
      "                               'Predicted Class': 1},\n",
      "                   'Layer 7': {'Logits': [-3.3778533935546875,\n",
      "                                          3.1984333992004395],\n",
      "                               'Predicted Class': 1},\n",
      "                   'Layer 8': {'Logits': [-4.4742841720581055,\n",
      "                                          4.435410976409912],\n",
      "                               'Predicted Class': 1},\n",
      "                   'Layer 9': {'Logits': [-4.719546794891357,\n",
      "                                          4.906567096710205],\n",
      "                               'Predicted Class': 1}},\n",
      "  'Main Logits': [-5.060304164886475, 4.915393352508545],\n",
      "  'Main Predicted Class': 1}]\n"
     ]
    }
   ],
   "source": [
    "from pprint import pprint\n",
    "pprint(correct_samples)"
   ]
  }
 ],
 "metadata": {
  "kernelspec": {
   "display_name": "Python 3",
   "language": "python",
   "name": "python3"
  },
  "language_info": {
   "codemirror_mode": {
    "name": "ipython",
    "version": 3
   },
   "file_extension": ".py",
   "mimetype": "text/x-python",
   "name": "python",
   "nbconvert_exporter": "python",
   "pygments_lexer": "ipython3",
   "version": "3.10.13"
  }
 },
 "nbformat": 4,
 "nbformat_minor": 2
}
